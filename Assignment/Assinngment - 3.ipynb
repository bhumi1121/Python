{
 "cells": [
  {
   "cell_type": "code",
   "execution_count": 1,
   "id": "61410ee4",
   "metadata": {},
   "outputs": [
    {
     "name": "stdout",
     "output_type": "stream",
     "text": [
      "['oop', 'flask', 'django', 'python']\n"
     ]
    }
   ],
   "source": [
    "\"\"\"What is List? How will you reverse a list?\"\"\"\n",
    "\"\"\"list is collection,used to store multiple value and list creat by [] braket\"\"\"\n",
    "name = [\"python\",\"django\",\"flask\",\"oop\"]\n",
    "name.reverse()\n",
    "print(name)\n"
   ]
  },
  {
   "cell_type": "code",
   "execution_count": 2,
   "id": "2ae46a79",
   "metadata": {},
   "outputs": [
    {
     "name": "stdout",
     "output_type": "stream",
     "text": [
      "[2, 33, 222, 14, 25]\n",
      "[2, 33, 222, 14]\n"
     ]
    }
   ],
   "source": [
    "\"\"\"How will you remove last object from a list? \n",
    "Suppose list1 is [2, 33, 222, 14, and 25], what is list1 [-1]?\"\"\"\n",
    "lis = [2,33,222,14,25]\n",
    "print(lis)\n",
    "lis.pop()\n",
    "print(lis)"
   ]
  },
  {
   "cell_type": "code",
   "execution_count": 3,
   "id": "ec889b7f",
   "metadata": {},
   "outputs": [
    {
     "name": "stdout",
     "output_type": "stream",
     "text": [
      "[14]\n"
     ]
    }
   ],
   "source": [
    "print(lis[-1:])"
   ]
  },
  {
   "cell_type": "code",
   "execution_count": 4,
   "id": "f01c3ce9",
   "metadata": {},
   "outputs": [
    {
     "data": {
      "text/plain": [
       "['red', 'blue', 'black', 'pink']"
      ]
     },
     "execution_count": 4,
     "metadata": {},
     "output_type": "execute_result"
    }
   ],
   "source": [
    "\"\"\"  Differentiate between append () and extend () methods? \"\"\"\n",
    "# append()\n",
    "color=[\"red\",\"blue\",\"black\"]\n",
    "ty=color.append(\"pink\")\n",
    "color"
   ]
  },
  {
   "cell_type": "code",
   "execution_count": 5,
   "id": "88f7c615",
   "metadata": {},
   "outputs": [
    {
     "name": "stdout",
     "output_type": "stream",
     "text": [
      "['devarth', 'bhumi', 'bhumika', 'd', 'e', 'v', 'i', 'k', 'a']\n"
     ]
    }
   ],
   "source": [
    "# extend()\n",
    "name=[\"devarth\",\"bhumi\",\"bhumika\"]\n",
    "new=name.extend(\"devika\")\n",
    "print(name)"
   ]
  },
  {
   "cell_type": "code",
   "execution_count": 6,
   "id": "2b885d4d",
   "metadata": {},
   "outputs": [
    {
     "name": "stdout",
     "output_type": "stream",
     "text": [
      "188\n",
      "11\n",
      "199\n"
     ]
    }
   ],
   "source": [
    "\"\"\"Write a Python function to get the largest number, smallest num and sum \n",
    "of all from a list. \"\"\"\n",
    "a = [11,21,13,188,19]\n",
    "s = max(a)  # maximu number\n",
    "print(s)\n",
    "f = min(a)  # minimum number\n",
    "print(f)\n",
    "d = s+f    # sum of s and f\n",
    "print(d)"
   ]
  },
  {
   "cell_type": "code",
   "execution_count": 7,
   "id": "16f8a5ba",
   "metadata": {},
   "outputs": [
    {
     "name": "stdout",
     "output_type": "stream",
     "text": [
      "False\n",
      "True\n"
     ]
    }
   ],
   "source": [
    "\"\"\"How will you compare two lists?\"\"\"\n",
    "list1 =[21,11,1212]\n",
    "list2 =[32,12,11]\n",
    "list3 =[21,11,1212]\n",
    "print(list1==list2)  # compare list1 and list 2 give answer in boolean\n",
    "print(list1==list3) # compare list1 and list 3"
   ]
  },
  {
   "cell_type": "code",
   "execution_count": 32,
   "id": "a62cf4bb",
   "metadata": {},
   "outputs": [
    {
     "name": "stdout",
     "output_type": "stream",
     "text": [
      "False\n"
     ]
    }
   ],
   "source": [
    "\"\"\"Write a Python program to count the number of strings where the string \n",
    "length is 2 or more and the first and last character are same from a given \n",
    "list of strings.\"\"\"\n",
    "a = (\"python\",\"java\",\"pop\",\"Django\")\n",
    "if len(a) >= 2:\n",
    "    b = a[0:] == a[:-1]\n",
    "    print(b)"
   ]
  },
  {
   "cell_type": "code",
   "execution_count": 9,
   "id": "c97a5b5c",
   "metadata": {},
   "outputs": [
    {
     "name": "stdout",
     "output_type": "stream",
     "text": [
      "['you', 'then', 'my']\n"
     ]
    }
   ],
   "source": [
    "\"\"\"Write a Python program to remove duplicates from a list. \"\"\"\n",
    "name = [\"my\",\"you\",\"then\",\"my\"]\n",
    "name.remove(\"my\")     # using remove method.\n",
    "print(name)\n"
   ]
  },
  {
   "cell_type": "code",
   "execution_count": 37,
   "id": "ac87f016",
   "metadata": {},
   "outputs": [],
   "source": [
    "\"\"\"Write a Python program to check a list is empty or not. \"\"\"\n",
    "if len == 0:   \n",
    "    print(\"list is empty\")\n",
    "else :\n",
    "    (\"invalid output\")"
   ]
  },
  {
   "cell_type": "code",
   "execution_count": 43,
   "id": "dcd2172f",
   "metadata": {},
   "outputs": [
    {
     "name": "stdout",
     "output_type": "stream",
     "text": [
      "True\n"
     ]
    }
   ],
   "source": [
    "\n",
    "\"\"\"Write a Python function that takes two lists and returns true if they have \n",
    "at least one common member. \"\"\"\n",
    "def  common_memer():\n",
    "    return True\n",
    "\n",
    "list1 = [\"apple\",\"banana\"]\n",
    "list2 = [\"apple\",\"cherry\"]\n",
    "\n",
    "if list1 and list2:\n",
    "    print(True)"
   ]
  },
  {
   "cell_type": "code",
   "execution_count": 44,
   "id": "d961017d",
   "metadata": {},
   "outputs": [
    {
     "name": "stdout",
     "output_type": "stream",
     "text": [
      "First 5 elements:\n",
      "1\n",
      "4\n",
      "9\n",
      "16\n",
      "25\n",
      "Last 5 elements:\n",
      "676\n",
      "729\n",
      "784\n",
      "841\n",
      "900\n"
     ]
    }
   ],
   "source": [
    "\"\"\"Write a Python program to generate and print a list of first and last 5 \n",
    "elements where the values are square of numbers between 1 and 30. \"\"\"\n",
    "squares = [num**2 for num in range(1, 31)]\n",
    "\n",
    "first_five = squares[:5]\n",
    "last_five = squares[-5:]\n",
    "\n",
    "# Print the first 5 elements\n",
    "print(\"First 5 elements:\")\n",
    "for num in first_five:\n",
    "    print(num)\n",
    "\n",
    "# Print the last 5 elements\n",
    "print(\"Last 5 elements:\")\n",
    "for num in last_five:\n",
    "    print(num)\n",
    "\n"
   ]
  },
  {
   "cell_type": "code",
   "execution_count": 45,
   "id": "b4ac0747",
   "metadata": {},
   "outputs": [
    {
     "name": "stdout",
     "output_type": "stream",
     "text": [
      "[1, 2, 3, 4, 5, 6]\n"
     ]
    }
   ],
   "source": [
    "\"\"\"Write a Python function that takes a list and returns a new list with unique \n",
    "elements of the first list. \"\"\"\n",
    "def unique_element(input_list):\n",
    "    unique_element = []\n",
    "    for element in input_list:\n",
    "        if element not in unique_element:\n",
    "            unique_element.append(element)\n",
    "    return unique_element\n",
    "my_list = [1, 2, 3, 4, 2, 3, 5, 6, 1]\n",
    "unique_list = unique_element(my_list)\n",
    "print(unique_list)"
   ]
  },
  {
   "cell_type": "code",
   "execution_count": 14,
   "id": "40c8a39e",
   "metadata": {},
   "outputs": [
    {
     "name": "stdout",
     "output_type": "stream",
     "text": [
      "['bhumika', 'sarvaiya']\n",
      "<class 'list'>\n",
      "['bhumika', 'sarvaiya']\n",
      "<class 'str'>\n"
     ]
    }
   ],
   "source": [
    "\"\"\"Write a Python program to convert a list of characters into a string. \"\"\"\n",
    "myname = [\"bhumika\",\"sarvaiya\"]\n",
    "print(myname)\n",
    "print(type(myname))\n",
    "j = str(myname)\n",
    "print(j)\n",
    "print(type(j))"
   ]
  },
  {
   "cell_type": "code",
   "execution_count": 15,
   "id": "92b9348c",
   "metadata": {},
   "outputs": [
    {
     "name": "stdout",
     "output_type": "stream",
     "text": [
      "2\n"
     ]
    }
   ],
   "source": [
    "\"\"\"Write a Python program to select an item randomly from a list. \"\"\"\n",
    "import random\n",
    "a = [1,2,3,4,5]\n",
    "print(random.choice(a))"
   ]
  },
  {
   "cell_type": "code",
   "execution_count": 46,
   "id": "762bfccd",
   "metadata": {},
   "outputs": [
    {
     "name": "stdout",
     "output_type": "stream",
     "text": [
      "The second smallest number in the list is: 1\n"
     ]
    }
   ],
   "source": [
    "\"\"\"Write a Python program to find the second smallest number in a list.\"\"\"\n",
    "l1 = [1,2,3,4,5,6,5,4,3,2,1,0]\n",
    "if len(l1) < 2:\n",
    "    print(\"there is no second smallest number in our list\")\n",
    "else:\n",
    "    smallest = float('inf')\n",
    "    second_smallest = float('inf')\n",
    "    \n",
    "    for num in l1:\n",
    "        if num < smallest:\n",
    "            second_smallest = smallest\n",
    "            smallest = num\n",
    "        elif num < second_smallest and num != smallest:\n",
    "            second_smallest = num\n",
    "\n",
    "    if second_smallest == float('inf'):\n",
    "        print(\"There is no second smallest number in the list.\")\n",
    "    else:\n",
    "        print(\"The second smallest number in the list is:\", second_smallest)\n"
   ]
  },
  {
   "cell_type": "code",
   "execution_count": 17,
   "id": "9279be2a",
   "metadata": {},
   "outputs": [
    {
     "name": "stdout",
     "output_type": "stream",
     "text": [
      "[11]\n"
     ]
    }
   ],
   "source": [
    "\"\"\"Write a Python program to get unique values from a list \"\"\"\n",
    "import random\n",
    "b = [21,11,13,14]\n",
    "print(random.choices(b))\n"
   ]
  },
  {
   "cell_type": "code",
   "execution_count": 47,
   "id": "0e6b278a",
   "metadata": {},
   "outputs": [
    {
     "name": "stdout",
     "output_type": "stream",
     "text": [
      "The main list contains the sublist.\n"
     ]
    }
   ],
   "source": [
    "\"\"\"Write a Python program to check whether a list contains a sub list\"\"\"\n",
    "l1 = [1, 2, 3, 4, 5, 6, 7, 8]\n",
    "l2 = [3, 4, 5]\n",
    "\n",
    "if len(l2) > len(l1):\n",
    "    print(\"The main list does not contain the sublist.\")\n",
    "else:\n",
    "    found_sublist = False\n",
    "\n",
    "    for i in range(len(l1) - len(l2) + 1):\n",
    "        if l1[i:i + len(l2)] == l2:\n",
    "            found_sublist = True\n",
    "            break\n",
    "\n",
    "    if found_sublist:\n",
    "        print(\"The main list contains the sublist.\")\n",
    "    else:\n",
    "        print(\"The main list does not contain the sublist.\")\n",
    "\n",
    "\n"
   ]
  },
  {
   "cell_type": "code",
   "execution_count": 19,
   "id": "b692bac6",
   "metadata": {},
   "outputs": [
    {
     "name": "stdout",
     "output_type": "stream",
     "text": [
      "(1, 2, 3, 5)\n",
      "name is bhumi\n",
      "21.11\n"
     ]
    }
   ],
   "source": [
    "\"\"\"Write a Python program to create a tuple with different data types.\"\"\"\n",
    "a = (1,2,3,5)    # intiger\n",
    "b = (\"name is bhumi\") # strinng\n",
    "c = (21.11)           # float\n",
    "print(a)\n",
    "print(b)\n",
    "print(c)"
   ]
  },
  {
   "cell_type": "code",
   "execution_count": 20,
   "id": "126d3f19",
   "metadata": {},
   "outputs": [
    {
     "name": "stdout",
     "output_type": "stream",
     "text": [
      "(1, 2, 3, 4, 5, 6, 7, 8, 9)\n",
      "<class 'tuple'>\n"
     ]
    }
   ],
   "source": [
    "\"\"\"Write a Python program to create a tuple with numbers. \"\"\"\n",
    "tup = (1,2,3,4,5,6,7,8,9)\n",
    "print(tup)\n",
    "print(type(tup))"
   ]
  },
  {
   "cell_type": "code",
   "execution_count": 21,
   "id": "552b39d8",
   "metadata": {},
   "outputs": [
    {
     "name": "stdout",
     "output_type": "stream",
     "text": [
      "('hello', 'i', 'am', 'doing', ' work')\n",
      "<class 'tuple'>\n",
      "('hello', 'i', 'am', 'doing', ' work')\n",
      "<class 'str'>\n"
     ]
    }
   ],
   "source": [
    "\"\"\"Write a Python program to convert a tuple to a string.\"\"\"\n",
    "tup = (\"hello\",\"i\",\"am\",\"doing\" ,\" work\")\n",
    "print(tup)\n",
    "print(type(tup))\n",
    "g = str(tup)\n",
    "print(g)\n",
    "print(type(g))"
   ]
  },
  {
   "cell_type": "code",
   "execution_count": 31,
   "id": "3c89e507",
   "metadata": {},
   "outputs": [
    {
     "name": "stdout",
     "output_type": "stream",
     "text": [
      "yes it is there\n"
     ]
    }
   ],
   "source": [
    "\"\"\"Write a Python program to check whether an element exists within a \n",
    "tuple. \"\"\"\n",
    "tp = (\"ahmedabad\",1,\"junagadh\",11)\n",
    "i = tp\n",
    "if 1 in i:\n",
    "    print(\"yes it is there\")\n",
    "else:\n",
    "    print(\"no, its not there\")"
   ]
  },
  {
   "cell_type": "code",
   "execution_count": 23,
   "id": "1a411aa2",
   "metadata": {},
   "outputs": [
    {
     "name": "stdout",
     "output_type": "stream",
     "text": [
      "('dog', 'cat', 'fox')\n",
      "3\n"
     ]
    }
   ],
   "source": [
    "\"\"\"Write a Python program to find the length of a tuple.\"\"\"\n",
    "animal = (\"dog\",\"cat\",\"fox\")\n",
    "print(animal)         # print animal\n",
    "print(len(animal))   # print lenght of animal"
   ]
  },
  {
   "cell_type": "code",
   "execution_count": 24,
   "id": "0acc15c3",
   "metadata": {},
   "outputs": [
    {
     "name": "stdout",
     "output_type": "stream",
     "text": [
      "[1, 2, 3, 4, 5, 6]\n",
      "<class 'list'>\n",
      "(1, 2, 3, 4, 5, 6)\n",
      "<class 'tuple'>\n"
     ]
    }
   ],
   "source": [
    "\"\"\"Write a Python program to convert a list to a tuple. \"\"\"\n",
    "a = [1,2,3,4,5,6]\n",
    "print(a)         # list\n",
    "print(type(a))          \n",
    "b = tuple(a)     # tuple\n",
    "print(b)\n",
    "print(type(b))"
   ]
  },
  {
   "cell_type": "code",
   "execution_count": 25,
   "id": "c8f65c00",
   "metadata": {},
   "outputs": [
    {
     "name": "stdout",
     "output_type": "stream",
     "text": [
      "('tvs', 'jupyter', 'activa')\n"
     ]
    }
   ],
   "source": [
    "\"\"\"Write a Python program to reverse a tuple. \"\"\"\n",
    "bike = [\"activa\",\"jupyter\",\"tvs\"]\n",
    "g = bike.reverse()\n",
    "f = tuple(bike)\n",
    "print(f)"
   ]
  },
  {
   "cell_type": "code",
   "execution_count": 26,
   "id": "1ff39d28",
   "metadata": {},
   "outputs": [
    {
     "name": "stdout",
     "output_type": "stream",
     "text": [
      "{'new': 1, 'old': 2, 'my': 3}\n"
     ]
    }
   ],
   "source": [
    "\"\"\"Write a Python program to convert a list of tuples into a dictionary.. \"\"\"\n",
    "num = [(\"new\" ,1 ),(\"old\", 2 ),(\"my\", 3)]\n",
    "num = dict(num)\n",
    "print(num)"
   ]
  },
  {
   "cell_type": "code",
   "execution_count": 30,
   "id": "3411f6ee",
   "metadata": {},
   "outputs": [
    {
     "name": "stdout",
     "output_type": "stream",
     "text": [
      "{('apple', 1): 'red', ('banana', 2): 'yellow', ('graps', 3): 'green'}\n"
     ]
    }
   ],
   "source": [
    "\"\"\"How will you create a dictionary using tuples in python?\"\"\"\n",
    "dbn = {\n",
    "    (\"apple\",1) : \"red\",\n",
    "    (\"banana\",2) : \"yellow\",\n",
    "    (\"graps\",3) : \"green\"\n",
    "}\n",
    "print(dbn)\n"
   ]
  },
  {
   "cell_type": "code",
   "execution_count": 29,
   "id": "4a735d49",
   "metadata": {},
   "outputs": [
    {
     "name": "stdout",
     "output_type": "stream",
     "text": [
      "Ascending order:\n",
      "banana : 2\n",
      "date : 3\n",
      "apple : 5\n",
      "cherry : 7\n",
      "\n",
      "Descending order:\n",
      "cherry : 7\n",
      "apple : 5\n",
      "date : 3\n",
      "banana : 2\n"
     ]
    }
   ],
   "source": [
    "\"\"\"Write a Python script to sort (ascending and descending) a dictionary by \n",
    "value.\"\"\"\n",
    "my_dict = {'apple': 5, 'banana': 2, 'cherry': 7, 'date': 3}\n",
    "\n",
    "sorted_dict_asc = {}\n",
    "for key in sorted(my_dict, key=my_dict.get):\n",
    "    sorted_dict_asc[key] = my_dict[key]\n",
    "\n",
    "print(\"Ascending order:\")\n",
    "for key, value in sorted_dict_asc.items():\n",
    "    print(key, \":\", value)\n",
    "\n",
    "sorted_dict_desc = {}\n",
    "for key in sorted(my_dict, key=my_dict.get, reverse=True):\n",
    "    sorted_dict_desc[key] = my_dict[key]\n",
    "\n",
    "print(\"\\nDescending order:\")\n",
    "for key, value in sorted_dict_desc.items():\n",
    "    print(key, \":\", value)"
   ]
  },
  {
   "cell_type": "code",
   "execution_count": 28,
   "id": "f4dcd1a9",
   "metadata": {},
   "outputs": [
    {
     "name": "stdout",
     "output_type": "stream",
     "text": [
      "{'a': 1, 'b': 2, 'c': 3, 'd': 4, 'e': 5, 'f': 6}\n"
     ]
    }
   ],
   "source": [
    "\"\"\"Write a Python script to concatenate following dictionaries to create a \n",
    "new one. \"\"\"\n",
    "dict1 = {'a': 1, 'b': 2}\n",
    "dict2 = {'c': 3, 'd': 4}\n",
    "dict3 = {'e': 5, 'f': 6}\n",
    "\n",
    "new_dict = {**dict1, **dict2, **dict3}\n",
    "print(new_dict)"
   ]
  },
  {
   "cell_type": "code",
   "execution_count": 27,
   "id": "859f50b9",
   "metadata": {},
   "outputs": [
    {
     "name": "stdout",
     "output_type": "stream",
     "text": [
      "dict_keys(['apple', 'banana', 'chickoo'])\n",
      "yes it is there\n"
     ]
    }
   ],
   "source": [
    "\"\"\"Write a Python script to check if a given key already exists in a \n",
    "dictionary.\"\"\"\n",
    "fruits = {\n",
    "    \"apple\" : \"red\",\n",
    "    \"banana\": \"yellow\",\n",
    "    \"chickoo\": \"brown\"\n",
    "}\n",
    "c = fruits.keys()\n",
    "print(c)\n",
    "\n",
    "if \"apple\" in fruits:\n",
    "    print(\"yes it is there\")\n",
    "else :\n",
    "    print(\"no its not there\")"
   ]
  },
  {
   "cell_type": "code",
   "execution_count": 26,
   "id": "0655b228",
   "metadata": {},
   "outputs": [
    {
     "name": "stdout",
     "output_type": "stream",
     "text": [
      "a : 1\n",
      "b : 2\n",
      "c : 3\n"
     ]
    }
   ],
   "source": [
    "\"\"\"How Do You Traverse Through A Dictionary Object In Python? \"\"\"\n",
    "my_dict = {'a': 1, 'b': 2, 'c': 3}\n",
    "\n",
    "# Traverse through the dictionary using a for loop\n",
    "for key, value in my_dict.items():\n",
    "    print(key, \":\", value)"
   ]
  },
  {
   "cell_type": "code",
   "execution_count": 25,
   "id": "ab83964a",
   "metadata": {},
   "outputs": [
    {
     "name": "stdout",
     "output_type": "stream",
     "text": [
      "{'ford': 'endavour', 'tata': 'saffari', 'toyota': 'fortuner', 'mahindra': 'scorpio'}\n",
      "dict_keys(['ford', 'tata', 'toyota', 'mahindra'])\n",
      "yes it is there!\n"
     ]
    }
   ],
   "source": [
    "\"\"\"How Do You Check The Presence Of A Key In A Dictionary?\"\"\"\n",
    "car = {\n",
    "    \"ford\" : \"endavour\",\n",
    "    \"tata\" : \"saffari\",\n",
    "    \"toyota\" : \"fortuner\",\n",
    "    \"mahindra\" : \"scorpio\"\n",
    "}\n",
    "print(car)\n",
    "print(car.keys())\n",
    "\n",
    "if \"tata\" in car:\n",
    "    print(\"yes it is there!\")\n"
   ]
  },
  {
   "cell_type": "code",
   "execution_count": 24,
   "id": "4c489611",
   "metadata": {},
   "outputs": [
    {
     "name": "stdout",
     "output_type": "stream",
     "text": [
      "{1: None, 2: None, 3: None, 4: None, 5: None, 6: None, 7: None, 8: None, 9: None, 10: None, 11: None, 12: None, 13: None, 14: None, 15: None}\n"
     ]
    }
   ],
   "source": [
    "\"\"\"Write a Python script to print a dictionary where the keys are numbers \n",
    "between 1 and 15.\"\"\"\n",
    "my_dict = {}\n",
    "\n",
    "for i in range(1, 16):\n",
    "    my_dict[i] = None\n",
    "\n",
    "print(my_dict)"
   ]
  },
  {
   "cell_type": "code",
   "execution_count": 23,
   "id": "0ae16df8",
   "metadata": {},
   "outputs": [
    {
     "name": "stdout",
     "output_type": "stream",
     "text": [
      "{'devarth': 'devu', 'bhumika': 'bhumi', 'niyati': 'niku', 'chutki': 'chhota bheem'}\n",
      "dict_keys(['devarth', 'bhumika', 'niyati', 'chutki'])\n"
     ]
    }
   ],
   "source": [
    "\"\"\"Write a Python program to check multiple keys exists in a dictionary \"\"\"\n",
    "name = {\n",
    "    \"devarth\" : \"devu\",\n",
    "    \"bhumika\" : \"bhumi\",\n",
    "    \"niyati\" : \"niku\",\n",
    "    \"chutki\" : \"chhota bheem\"\n",
    "}\n",
    "print(name)\n",
    "print(name.keys())\n"
   ]
  },
  {
   "cell_type": "code",
   "execution_count": 22,
   "id": "ca6bcf2c",
   "metadata": {},
   "outputs": [
    {
     "name": "stdout",
     "output_type": "stream",
     "text": [
      "audi : 2008\n",
      "bmw : 2003\n",
      "tata : 2015\n",
      "red : apple\n",
      "yellow : banana\n",
      "brown : chickoo\n",
      "purple : graps\n"
     ]
    }
   ],
   "source": [
    "\"\"\"Write a Python script to merge two Python dictionaries\"\"\"\n",
    "car = {\n",
    "    \"audi\" : 2008,\n",
    "    \"bmw\" : 2003,\n",
    "    \"tata\" : 2015\n",
    "}\n",
    "color = {\n",
    "    \"red\" : \"apple\",\n",
    "    \"yellow\" : \"banana\",\n",
    "    \"brown\" : \"chickoo\",\n",
    "    \"purple\" : \"graps\"\n",
    "}\n",
    "a = car.copy()\n",
    "a.update(color)\n",
    "\n",
    "for key,value in a.items():\n",
    "    print(key, \":\" ,value)"
   ]
  },
  {
   "cell_type": "code",
   "execution_count": 21,
   "id": "b4d03f54",
   "metadata": {},
   "outputs": [
    {
     "name": "stdout",
     "output_type": "stream",
     "text": [
      "{'apple': 'red', 'banana': 'yellow'}\n",
      "{'audi': 'loveit', 'bmw': 'likeit'}\n"
     ]
    }
   ],
   "source": [
    "\"\"\"Write a Python program to map two lists into a dictionary\"\"\"\n",
    "ax = [\"apple\",\"red\"],[\"banana\",\"yellow\"]\n",
    "xa = [\"audi\",\"loveit\"],[\"bmw\",\"likeit\"]\n",
    "ax = dict(ax)\n",
    "xa = dict(xa)\n",
    "print(ax)\n",
    "print(xa)"
   ]
  },
  {
   "cell_type": "code",
   "execution_count": 20,
   "id": "bf3f3d81",
   "metadata": {},
   "outputs": [
    {
     "name": "stdout",
     "output_type": "stream",
     "text": [
      "Combined dictionary: {'a': 400, 'b': 400, 'c': 300, 'd': 400}\n"
     ]
    }
   ],
   "source": [
    "\"\"\"Write a Python program to combine two dictionary adding values for \n",
    "common keys. \n",
    "d1 = {'a': 100, 'b': 200, 'c':300} o d2 = {'a': 300, 'b': 200,’d’:400}\"\"\"\n",
    "d1 = {'a': 100, 'b': 200, 'c': 300}\n",
    "d2 = {'a': 300, 'b': 200, 'd': 400}\n",
    "\n",
    "add_dic = {}\n",
    "for key, value in d1.items():\n",
    "    add_dic[key] = add_dic.get(key, 0) + value\n",
    "\n",
    "# Add values from d2 to combined_dict\n",
    "for key, value in d2.items():\n",
    "    add_dic[key] = add_dic.get(key, 0) + value\n",
    "\n",
    "print(\"Combined dictionary:\", add_dic)"
   ]
  },
  {
   "cell_type": "code",
   "execution_count": 19,
   "id": "92014c8c",
   "metadata": {},
   "outputs": [
    {
     "name": "stdout",
     "output_type": "stream",
     "text": [
      "dict_values(['lion', 'tiger', 'monkey', 'fox'])\n",
      "('lion', 'tiger', 'monkey', 'fox')\n",
      "<class 'tuple'>\n",
      "lion\n"
     ]
    }
   ],
   "source": [
    "\"\"\"Write a Python program to print all unique values in a dictionary. \"\"\"\n",
    "import random\n",
    "animal = {\n",
    "    \"king\" : \"lion\" ,\n",
    "    \"roar\" : \"tiger\" ,\n",
    "    \"naughty\" : \"monkey\",\n",
    "    \"smart\" : \"fox\"\n",
    "}\n",
    "a = animal.values()\n",
    "print(a)\n",
    "b = tuple(a)\n",
    "print(b)\n",
    "print(type(b))\n",
    "print(random.choice(b))"
   ]
  },
  {
   "cell_type": "code",
   "execution_count": 18,
   "id": "9f55aae3",
   "metadata": {},
   "outputs": [
    {
     "name": "stdout",
     "output_type": "stream",
     "text": [
      "devarth is 25 years old\n",
      "Bhumi is 30 years old\n",
      "Chutki is 35 years old\n"
     ]
    }
   ],
   "source": [
    "\"\"\"Why Do You Use the Zip () Method in Python?\"\"\"\n",
    "names = ['devarth', 'Bhumi', 'Chutki']\n",
    "ages = [25, 30, 35]\n",
    "\n",
    "for name, age in zip(names, ages):\n",
    "    print(name, \"is\", age, \"years old\")"
   ]
  },
  {
   "cell_type": "code",
   "execution_count": 16,
   "id": "ff6abc02",
   "metadata": {},
   "outputs": [
    {
     "name": "stdout",
     "output_type": "stream",
     "text": [
      "['ac', 'ad', 'bc', 'bd']\n"
     ]
    }
   ],
   "source": [
    "\"\"\"Write a Python program to create and display all combinations of letters, \n",
    "selecting each letter from a different key in a dictionary. \n",
    "Sample data: {'1': ['a','b'], '2': ['c','d']}\"\"\"\n",
    "from itertools import product\n",
    "\n",
    "data = {'1': ['a', 'b'], '2': ['c', 'd']}\n",
    "\n",
    "combinations = [''.join(comb) for comb in product(*data.values())]\n",
    "\n",
    "print(combinations)"
   ]
  },
  {
   "cell_type": "code",
   "execution_count": 15,
   "id": "c63a9c6c",
   "metadata": {},
   "outputs": [
    {
     "name": "stdout",
     "output_type": "stream",
     "text": [
      "Highest 3 values: [20, 15, 10]\n"
     ]
    }
   ],
   "source": [
    "\"\"\"Write a Python program to find the highest 3 values in a dictionary\"\"\"\n",
    "my_dict = {'a': 10, 'b': 5, 'c': 15, 'd': 20, 'e': 7}\n",
    "\n",
    "max_value = max(my_dict.values())\n",
    "\n",
    "highest_values = []\n",
    "count = 0\n",
    "\n",
    "while count < 3:\n",
    "    for key, value in my_dict.items():\n",
    "        if value == max_value:\n",
    "            highest_values.append(value)\n",
    "            count += 1\n",
    "        if count == 3:\n",
    "            break\n",
    "    max_value -= 1\n",
    "\n",
    "print(\"Highest 3 values:\", highest_values)\n"
   ]
  },
  {
   "cell_type": "code",
   "execution_count": 14,
   "id": "f73a8b8f",
   "metadata": {},
   "outputs": [
    {
     "name": "stdout",
     "output_type": "stream",
     "text": [
      "Combined values: {'item1': 1150, 'item2': 300}\n"
     ]
    }
   ],
   "source": [
    "\"\"\"Write a Python program to combine values in python list of dictionaries. \n",
    "Sample data: [{'item': 'item1', 'amount': 400}, {'item': 'item2', 'amount': \n",
    "300}, o {'item': 'item1', 'amount': 750}]\"\"\"\n",
    "data = [\n",
    "    {'item': 'item1', 'amount': 400},\n",
    "    {'item': 'item2', 'amount': 300},\n",
    "    {'item': 'item1', 'amount': 750}\n",
    "]\n",
    "\n",
    "combined_values = {}\n",
    "\n",
    "for d in data:\n",
    "    item = d['item']\n",
    "    amount = d['amount']\n",
    "    if item in combined_values:\n",
    "        combined_values[item] += amount\n",
    "    else:\n",
    "        combined_values[item] = amount\n",
    "\n",
    "print(\"Combined values:\", combined_values)\n",
    "\n"
   ]
  },
  {
   "cell_type": "code",
   "execution_count": 11,
   "id": "d6b78f7a",
   "metadata": {},
   "outputs": [
    {
     "name": "stdout",
     "output_type": "stream",
     "text": [
      "Character count: {'w': 1, '3': 1, 'r': 2, 'e': 2, 's': 1, 'o': 1, 'u': 1, 'c': 1}\n"
     ]
    }
   ],
   "source": [
    "\"\"\"Write a Python program to create a dictionary from a string. \n",
    "Note: Track the count of the letters from the string. \n",
    "Sample string: 'w3resource' \"\"\"\n",
    "string = 'w3resource'\n",
    "\n",
    "char_count = {}\n",
    "\n",
    "for char in string:\n",
    "    if char in char_count:\n",
    "        char_count[char] += 1\n",
    "    else:\n",
    "        char_count[char] = 1\n",
    "\n",
    "print(\"Character count:\", char_count)"
   ]
  },
  {
   "cell_type": "code",
   "execution_count": 10,
   "id": "23097df8",
   "metadata": {},
   "outputs": [
    {
     "name": "stdout",
     "output_type": "stream",
     "text": [
      "120\n",
      "362880\n"
     ]
    }
   ],
   "source": [
    "\"\"\"Write a Python function to calculate the factorial of a number (a \n",
    "nonnegative integer)\"\"\"\n",
    "import math\n",
    "print(math.factorial(5))\n",
    "print(math.factorial(9))"
   ]
  },
  {
   "cell_type": "code",
   "execution_count": 9,
   "id": "6cbe893f",
   "metadata": {},
   "outputs": [
    {
     "name": "stdout",
     "output_type": "stream",
     "text": [
      "Enter the value : 1\n",
      "yes it is in range\n",
      "yes it is in range\n",
      "yes it is in range\n",
      "yes it is in range\n"
     ]
    }
   ],
   "source": [
    "\"\"\"Write a Python function to check whether a number is in a given range\n",
    "\"\"\"\n",
    "i = int(input(\"Enter the value : \"))\n",
    "n = i \n",
    "for n in range(1,5):\n",
    "     print(\"yes it is in range\")"
   ]
  },
  {
   "cell_type": "code",
   "execution_count": 8,
   "id": "9f4b0796",
   "metadata": {},
   "outputs": [
    {
     "name": "stdout",
     "output_type": "stream",
     "text": [
      "28 is a perfect number.\n"
     ]
    }
   ],
   "source": [
    "\"\"\"Write a Python function to check whether a number is perfect or not.\"\"\"\n",
    "def is_perfect_number(number):\n",
    "    # Check if the number is positive\n",
    "    if number <= 0:\n",
    "        return False\n",
    "    \n",
    "    divisor_sum = sum(i for i in range(1, number) if number % i == 0)\n",
    "\n",
    "    return divisor_sum == number\n",
    "\n",
    "number = 28\n",
    "if is_perfect_number(number):\n",
    "    print(number, \"is a perfect number.\")\n",
    "else:\n",
    "    print(number, \"is not a perfect number.\")\n"
   ]
  },
  {
   "cell_type": "code",
   "execution_count": 7,
   "id": "cddb3dfe",
   "metadata": {},
   "outputs": [
    {
     "name": "stdout",
     "output_type": "stream",
     "text": [
      "level is a palindrome.\n"
     ]
    }
   ],
   "source": [
    "\"\"\"Write a Python function that checks whether a passed string is \n",
    "palindrome or not\"\"\"\n",
    "def is_palindrome(string):\n",
    "    string = ''.join(c.lower() for c in string if c.isalnum())\n",
    "    return string == string[::-1]\n",
    "\n",
    "# Test the function\n",
    "word = \"level\"\n",
    "if is_palindrome(word):\n",
    "    print(word, \"is a palindrome.\")\n",
    "else:\n",
    "    print(word, \"is not a palindrome.\")"
   ]
  },
  {
   "cell_type": "code",
   "execution_count": 6,
   "id": "06a491d1",
   "metadata": {},
   "outputs": [
    {
     "data": {
      "text/plain": [
       "'How Many Basic Types Of Functions Are Available In Python?'"
      ]
     },
     "execution_count": 6,
     "metadata": {},
     "output_type": "execute_result"
    }
   ],
   "source": [
    "\"\"\"How Many Basic Types Of Functions Are Available In Python?\"\"\"\n",
    "# there are built in and user defined functions are available in python.\n",
    "# def, lambda and import basic these three types of functions in python."
   ]
  },
  {
   "cell_type": "code",
   "execution_count": 5,
   "id": "eef4a918",
   "metadata": {},
   "outputs": [
    {
     "name": "stdout",
     "output_type": "stream",
     "text": [
      "[12]\n"
     ]
    }
   ],
   "source": [
    "\"\"\"How can you pick a random item from a list or tuple? \"\"\"\n",
    "tupp = (11,12,13,14,15,16,17,18,19,20)\n",
    "type(tupp)\n",
    "print(random.choices(tupp))"
   ]
  },
  {
   "cell_type": "code",
   "execution_count": 4,
   "id": "1bda899d",
   "metadata": {},
   "outputs": [
    {
     "name": "stdout",
     "output_type": "stream",
     "text": [
      "4\n"
     ]
    }
   ],
   "source": [
    "\"\"\"How can you pick a random item from a range? \"\"\"\n",
    "import random\n",
    "print(random.randrange(1,10))"
   ]
  },
  {
   "cell_type": "code",
   "execution_count": 3,
   "id": "cde81281",
   "metadata": {},
   "outputs": [
    {
     "name": "stdout",
     "output_type": "stream",
     "text": [
      "4\n"
     ]
    }
   ],
   "source": [
    "\"\"\"How can you get a random number in python? \"\"\"\n",
    "print(random.randint(1,10))"
   ]
  },
  {
   "cell_type": "code",
   "execution_count": 2,
   "id": "09c8d94d",
   "metadata": {},
   "outputs": [
    {
     "name": "stdout",
     "output_type": "stream",
     "text": [
      "Random Number 1: 0.6394267984578837\n",
      "Random Number 2: 1\n",
      "Random Number 3: 0.7415504997598329\n"
     ]
    }
   ],
   "source": [
    "\"\"\"How will you set the starting value in generating random numbers?\"\"\"\n",
    "import random\n",
    "random.seed(42)\n",
    "\n",
    "# Generate random numbers\n",
    "random_number1 = random.random()\n",
    "random_number2 = random.randint(1, 10)\n",
    "random_number3 = random.uniform(0.0, 1.0)\n",
    "\n",
    "print(\"Random Number 1:\", random_number1)\n",
    "print(\"Random Number 2:\", random_number2)\n",
    "print(\"Random Number 3:\", random_number3)\n"
   ]
  },
  {
   "cell_type": "code",
   "execution_count": 1,
   "id": "94c8e33e",
   "metadata": {},
   "outputs": [
    {
     "name": "stdout",
     "output_type": "stream",
     "text": [
      "Shuffled List: [2, 1, 5, 3, 4]\n"
     ]
    }
   ],
   "source": [
    "\"\"\"How will you randomizes the items of a list in place? \"\"\"\n",
    "import random\n",
    "\n",
    "# Create a list\n",
    "my_list = [1, 2, 3, 4, 5]\n",
    "random.shuffle(my_list)\n",
    "print(\"Shuffled List:\", my_list)"
   ]
  },
  {
   "cell_type": "code",
   "execution_count": 28,
   "id": "bb5206e3",
   "metadata": {},
   "outputs": [
    {
     "data": {
      "text/plain": [
       "'Write a Python program to read a random line from a file.'"
      ]
     },
     "execution_count": 28,
     "metadata": {},
     "output_type": "execute_result"
    }
   ],
   "source": [
    "\"\"\"Write a Python program to read a random line from a file.\"\"\"\n",
    "import random :\n",
    "    "
   ]
  },
  {
   "cell_type": "code",
   "execution_count": 29,
   "id": "25ede166",
   "metadata": {},
   "outputs": [
    {
     "data": {
      "text/plain": [
       "'Write a Python program to convert degree to radian '"
      ]
     },
     "execution_count": 29,
     "metadata": {},
     "output_type": "execute_result"
    }
   ],
   "source": [
    "\"\"\"Write a Python program to convert degree to radian \"\"\"\n",
    "import math\n",
    "\n",
    "def convert_degrees_to_radians(degrees):\n",
    "    radians = degrees * (math.pi / 180)\n",
    "    return radians\n",
    "\n",
    "degrees = float(input(\"Enter the degree value: \"))\n",
    "\n",
    "radians = convert_degrees_to_radians(degrees)\n",
    "print(\"Degrees:\", degrees)\n",
    "print(\"Radians:\", radians)"
   ]
  },
  {
   "cell_type": "code",
   "execution_count": null,
   "id": "6380a3ed",
   "metadata": {},
   "outputs": [],
   "source": [
    "\"\"\"Write a Python program to calculate the area of a trapezoid\"\"\"\n",
    "def calculate_trapezoid_area(base1, base2, height):\n",
    "    area = ((base1 + base2) * height) / 2\n",
    "    return area\n",
    "\n",
    "base1 = float(input(\"Enter the length of the first base: \"))\n",
    "base2 = float(input(\"Enter the length of the second base: \"))\n",
    "height = float(input(\"Enter the height of the trapezoid: \"))\n",
    "\n",
    "area = calculate_trapezoid_area(base1, base2, height)\n",
    "\n",
    "# Print the calculated area\n",
    "print(\"The area of the trapezoid is:\", area)\n"
   ]
  },
  {
   "cell_type": "code",
   "execution_count": null,
   "id": "2d48cf8a",
   "metadata": {},
   "outputs": [],
   "source": [
    "\"\"\"Write a Python program to returns sum of all divisors of a number\"\"\"\n",
    "number = int(input(\"Enter a number: \"))\n",
    "\n",
    "# Calculate the sum of divisors\n",
    "divisor_sum = sum(i for i in range(1, number + 1) if number % i == 0)\n",
    "\n",
    "# Print the sum of divisors\n",
    "print(\"The sum of divisors of\", number, \"is\", divisor_sum)\n",
    "\n"
   ]
  },
  {
   "cell_type": "code",
   "execution_count": 3,
   "id": "464d5af2",
   "metadata": {},
   "outputs": [
    {
     "name": "stdout",
     "output_type": "stream",
     "text": [
      "1\n",
      "8\n"
     ]
    }
   ],
   "source": [
    "\"\"\"Write a Python program to find the maximum and minimum numbers \n",
    "from the specified decimal numbers.\"\"\"\n",
    "num = [1,2,3,4,5,6,7,8]\n",
    "print(min(num))\n",
    "print(max(num))"
   ]
  },
  {
   "cell_type": "code",
   "execution_count": null,
   "id": "72a2f919",
   "metadata": {},
   "outputs": [],
   "source": []
  }
 ],
 "metadata": {
  "kernelspec": {
   "display_name": "Python 3 (ipykernel)",
   "language": "python",
   "name": "python3"
  },
  "language_info": {
   "codemirror_mode": {
    "name": "ipython",
    "version": 3
   },
   "file_extension": ".py",
   "mimetype": "text/x-python",
   "name": "python",
   "nbconvert_exporter": "python",
   "pygments_lexer": "ipython3",
   "version": "3.10.9"
  }
 },
 "nbformat": 4,
 "nbformat_minor": 5
}
